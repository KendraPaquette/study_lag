{
 "cells": [
  {
   "cell_type": "markdown",
   "metadata": {},
   "source": [
    "# Test\n",
    "\n",
    "Kendra Wyant (Department of Psychology, University of Wisconsin-Madison)  \n",
    "October 23, 2024\n",
    "\n",
    "# Introduction"
   ],
   "id": "1cf20090-70b7-4119-8ab7-01dcf86779dc"
  }
 ],
 "nbformat": 4,
 "nbformat_minor": 5,
 "metadata": {}
}
