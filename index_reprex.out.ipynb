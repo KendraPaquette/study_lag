{
 "cells": [
  {
   "cell_type": "markdown",
   "metadata": {},
   "source": [
    "# Test\n",
    "\n",
    "Kendra Wyant (Department of Psychology, University of Wisconsin-Madison)  \n",
    "October 23, 2024\n",
    "\n",
    "# Introduction"
   ],
   "id": "5ebe74f2-b9ef-4d5f-819d-facd9cbc9872"
  }
 ],
 "nbformat": 4,
 "nbformat_minor": 5,
 "metadata": {}
}
