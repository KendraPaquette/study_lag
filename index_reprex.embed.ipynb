{
 "cells": [
  {
   "cell_type": "markdown",
   "metadata": {},
   "source": [
    "# Test\n",
    "\n",
    "Kendra Wyant (Department of Psychology, University of Wisconsin-Madison)  \n",
    "October 23, 2024\n",
    "\n",
    "# Introduction"
   ],
   "id": "5f4d6434-2e37-47fa-ad85-c6ed020085b0"
  }
 ],
 "nbformat": 4,
 "nbformat_minor": 5,
 "metadata": {}
}
